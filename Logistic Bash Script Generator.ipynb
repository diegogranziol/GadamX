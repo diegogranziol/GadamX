{
 "cells": [
  {
   "cell_type": "code",
   "execution_count": null,
   "metadata": {},
   "outputs": [],
   "source": [
    "python3 run_sgd.py --model Logistic --dataset MNIST --data_path data/ --dir out/ --no_schedule --lr_init 0.03  --save_freq=1 --epochs 20"
   ]
  },
  {
   "cell_type": "code",
   "execution_count": 6,
   "metadata": {},
   "outputs": [],
   "source": [
    "gridval = [0.5,0.25,0.1,0.05,0.03,0.01,0.005]\n",
    "schedule = [1,0]\n",
    "momentum = [0,0.9]\n",
    "wd = [0,0.0005]\n",
    "epochs = 20\n",
    "start = 'python3 run_sgd.py --model Logistic --dataset MNIST --data_path data/ --dir out/ -save_freq=1 --epochs '+str(epochs) "
   ]
  },
  {
   "cell_type": "code",
   "execution_count": 25,
   "metadata": {
    "scrolled": true
   },
   "outputs": [],
   "source": [
    "f = open(\"bayes_scripts/logistic.sh\",\"w+\")\n",
    "for i in range(0,len(gridval)):\n",
    "    start = 'python3 run_sgd.py --model Logistic --dataset MNIST --data_path data/ --dir out/ --save_freq=1 --epochs '+str(epochs) \n",
    "    start += ' --lr_init '+str(gridval[i])     \n",
    "    for j in range(0,len(wd)):\n",
    "        m = start + ' --wd '+str(wd[j])\n",
    "        for k in range(0,len(momentum)):\n",
    "            n = m + ' --momentum='+str(momentum[k])\n",
    "            for p in range(0,len(schedule)):\n",
    "                if schedule[p] == 1:\n",
    "                    q = n\n",
    "                else:\n",
    "                     q = n + \" --no_schedule \"\n",
    "                f.write(q)\n",
    "                f.write('\\n')"
   ]
  },
  {
   "cell_type": "code",
   "execution_count": 15,
   "metadata": {},
   "outputs": [
    {
     "data": {
      "text/plain": [
       "0.9"
      ]
     },
     "execution_count": 15,
     "metadata": {},
     "output_type": "execute_result"
    }
   ],
   "source": [
    "momentum[1]"
   ]
  },
  {
   "cell_type": "code",
   "execution_count": null,
   "metadata": {},
   "outputs": [],
   "source": []
  }
 ],
 "metadata": {
  "kernelspec": {
   "display_name": "Python 3",
   "language": "python",
   "name": "python3"
  },
  "language_info": {
   "codemirror_mode": {
    "name": "ipython",
    "version": 3
   },
   "file_extension": ".py",
   "mimetype": "text/x-python",
   "name": "python",
   "nbconvert_exporter": "python",
   "pygments_lexer": "ipython3",
   "version": "3.6.8"
  }
 },
 "nbformat": 4,
 "nbformat_minor": 2
}
