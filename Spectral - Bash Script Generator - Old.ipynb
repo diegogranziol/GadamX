{
 "cells": [
  {
   "cell_type": "code",
   "execution_count": 87,
   "metadata": {},
   "outputs": [
    {
     "name": "stdout",
     "output_type": "stream",
     "text": [
      "[0, 25, 50, 75, 100, 125, 150, 175, 200, 225, 250, 275, 300]\n"
     ]
    }
   ],
   "source": [
    "model = 'VGG16'\n",
    "dataset = 'CIFAR10'\n",
    "optimizer = 'SGDOPT'\n",
    "machine = 'rapid'\n",
    "matrix = 'hessian'\n",
    "start = 'python3 ../spectrum.py --curvature_matrix='+matrix+'  '\n",
    "if machine == 'rapid':\n",
    "    data_path = '/nfs/home/dgranziol/curvature/data/'\n",
    "elif machine == 'jade1':\n",
    "    data_path = '/jmain01/home/JAD017/sjr01/dxg49-sjr01/curvature/data/'\n",
    "    machine = 'jade'\n",
    "elif machine == 'jade2':\n",
    "    data_path = '/jmain01/home/JAD017/sjr02/dxg49-sjr02/curvature/data/' \n",
    "    machine = 'jade'\n",
    "relarray = []\n",
    "iters = 100\n",
    "num_samples = 128\n",
    "if dataset == 'CIFAR100':\n",
    "    df = 'c100'\n",
    "else:\n",
    "    df = 'c10'\n",
    "#ckptlink = 'ckpts/'+df+'/'+model+'/'+optimizer+'/'\n",
    "ckptlink = '/nfs/home/dgranziol/curvature/ckpts/c10/VGG16/SGDOPT/'\n",
    "append = ''\n",
    "if model == 'VGG16':\n",
    "    for i in range(0,13):\n",
    "        relarray.append(i*25)\n",
    "elif model == 'PreResNet110':\n",
    "    for i in range(0,10):\n",
    "        relarray.append(i*25)\n",
    "print(relarray)\n",
    "substart = 0\n",
    "subend = 10\n",
    "\n",
    "\n",
    "\n",
    "        "
   ]
  },
  {
   "cell_type": "code",
   "execution_count": 88,
   "metadata": {},
   "outputs": [],
   "source": [
    "data_path = '/nfs/home/dgranziol/curvature/data/'"
   ]
  },
  {
   "cell_type": "code",
   "execution_count": 89,
   "metadata": {
    "scrolled": true
   },
   "outputs": [],
   "source": [
    "#full SPECTRUM\n",
    "#eigenvectors not saved\n",
    "f = open(str(machine)+\"_scripts/full-\"+matrix+'_'+optimizer+'_'+model+'_'+dataset+'_'+\"iters-\"+str(iters)+\".sh\",\"w+\")\n",
    "zeros = '00000'\n",
    "if machine=='jade':\n",
    "    f.write('#!/bin/bash')\n",
    "    f.write('\\n')\n",
    "    f.write('#SBATCH --nodes=1')\n",
    "    f.write('\\n')\n",
    "    f.write('#SBATCH --job-name='+matrix+'_'+optimizer+'_'+model+'_'+dataset+'')\n",
    "    f.write('#SBATCH --partition=small')\n",
    "    f.write('#SBATCH --gres=gpu:1')\n",
    "for i in range(0,len(relarray)):\n",
    "    val = zeros[:5-len(str(relarray[i]))]+str(relarray[i])\n",
    "    if model == 'PreResNet110':\n",
    "        k = start+' --dataset='+dataset+' --iters='+str(iters)+' --data_path='+data_path+' --model='+model+' --ckpt='+ckptlink+'checkpoint-'+val+'.pt --basis_path='+ckptlink+matrix+'-'+str(iters)+'-'+val+' --spectrum_path='+ckptlink+matrix+'-'+str(iters)+'-'+val\n",
    "        f.write(k)\n",
    "        f.write('\\n')\n",
    "        k = start+' --dataset='+dataset+' --iters='+str(iters)+' --data_path='+data_path+' --model='+model+' --ckpt='+ckptlink+'checkpoint-'+val+'.pt --basis_path='+ckptlink+matrix+'-'+str(iters)+'-'+val+'_trainoff'+'--bn_train_mode_off --spectrum_path='+ckptlink+matrix+'-'+str(iters)+'-'+val+'_trainoff'\n",
    "        f.write(k)\n",
    "        f.write('\\n')\n",
    "    else:\n",
    "        k = start+' --dataset='+dataset+' --iters='+str(iters)+' --data_path='+data_path+' --model='+model+' --ckpt='+ckptlink+'checkpoint-'+val+'.pt --basis_path='+ckptlink+matrix+'-'+str(iters)+'-'+val+' --spectrum_path='+ckptlink+matrix+'-'+str(iters)+'-'+val\n",
    "        f.write(k)\n",
    "        f.write('\\n')"
   ]
  },
  {
   "cell_type": "code",
   "execution_count": 86,
   "metadata": {},
   "outputs": [],
   "source": [
    "#batch SPECTRUM\n",
    "#eigenvectors not saved\n",
    "f = open(str(machine)+\"_scripts/batch-\"+str(num_samples)+optimizer+model+dataset+\".sh\",\"w+\")\n",
    "zeros = '00000'\n",
    "if machine=='jade':\n",
    "    f.write('#!/bin/bash')\n",
    "    f.write('\\n')\n",
    "    f.write('#SBATCH --nodes=1')\n",
    "    f.write('\\n')\n",
    "    f.write('#SBATCH --job-name='+matrix+'_'+optimizer+'_'+model+'_'+dataset+'')\n",
    "    f.write('#SBATCH --partition=small')\n",
    "    f.write('#SBATCH --gres=gpu:1')\n",
    "for i in range(0,len(relarray)):\n",
    "    val = zeros[:5-len(str(relarray[i]))]+str(relarray[i])\n",
    "    for j in range(substart,subend):\n",
    "        if model == 'PreResNet110':\n",
    "            k = start+' --dataset='+dataset+' --iters='+str(iters)+' --data_path='+data_path+' --model='+model+' --subsample_seed='+str(j)+' --num_samples='+str(num_samples)+' --ckpt='+ckptlink+'checkpoint-'+val+'.pt  --spectrum_path='+ckptlink+str(num_samples)+'_matrix='+matrix+'_batchspec/'+str(num_samples)+'-'+val+'-'+str(j)\n",
    "            f.write(k)\n",
    "            f.write('\\n')\n",
    "            k = start+' --dataset='+dataset+' --iters='+str(iters)+' --data_path='+data_path+' --model='+model+' --subsample_seed='+str(j)+' --num_samples='+str(num_samples)+' --ckpt='+ckptlink+'checkpoint-'+val+'.pt --bn_train_mode_off  --spectrum_path='+ckptlink+str(num_samples)+'_matrix='+matrix+'_batchspec_trainoff/'+str(num_samples)+'-'+val+'-'+str(j)\n",
    "            f.write(k)\n",
    "            f.write('\\n')\n",
    "        else:\n",
    "            k = start+' --dataset='+dataset+' --iters='+str(iters)+' --data_path='+data_path+' --model='+model+' --subsample_seed='+str(j)+' --num_samples='+str(num_samples)+' --ckpt='+ckptlink+'checkpoint-'+val+'.pt  --spectrum_path='+ckptlink+str(num_samples)+'_matrix='+matrix+'_batchspec/'+str(num_samples)+'-'+val+'-'+str(j)\n",
    "            f.write(k)\n",
    "            f.write('\\n')\n",
    "f.close()"
   ]
  },
  {
   "cell_type": "code",
   "execution_count": 116,
   "metadata": {
    "scrolled": true
   },
   "outputs": [],
   "source": [
    "f = open(\"bayes_scripts/removecheck.txt\",\"w+\")\n",
    "for i in range(1,299):\n",
    "    if i in relarray:\n",
    "        pass\n",
    "    else:\n",
    "        k = 'checkpoint-'+zeros[:5-len(str(i))]+str(i)+'.pt '\n",
    "        f.write(k)"
   ]
  },
  {
   "cell_type": "code",
   "execution_count": 117,
   "metadata": {},
   "outputs": [
    {
     "data": {
      "text/plain": [
       "'rapid'"
      ]
     },
     "execution_count": 117,
     "metadata": {},
     "output_type": "execute_result"
    }
   ],
   "source": [
    "machine"
   ]
  },
  {
   "cell_type": "code",
   "execution_count": 110,
   "metadata": {},
   "outputs": [
    {
     "data": {
      "text/plain": [
       "[0, 25, 50, 75, 100, 125, 150, 175, 200, 225, 250, 275, 300]"
      ]
     },
     "execution_count": 110,
     "metadata": {},
     "output_type": "execute_result"
    }
   ],
   "source": [
    "relarray"
   ]
  },
  {
   "cell_type": "code",
   "execution_count": 108,
   "metadata": {},
   "outputs": [
    {
     "data": {
      "text/plain": [
       "False"
      ]
     },
     "execution_count": 108,
     "metadata": {},
     "output_type": "execute_result"
    }
   ],
   "source": [
    "isinstance(75./i, int)"
   ]
  },
  {
   "cell_type": "code",
   "execution_count": 109,
   "metadata": {},
   "outputs": [
    {
     "data": {
      "text/plain": [
       "3.0"
      ]
     },
     "execution_count": 109,
     "metadata": {},
     "output_type": "execute_result"
    }
   ],
   "source": [
    "75./i"
   ]
  },
  {
   "cell_type": "code",
   "execution_count": null,
   "metadata": {
    "collapsed": true
   },
   "outputs": [],
   "source": []
  }
 ],
 "metadata": {
  "kernelspec": {
   "display_name": "Python 2",
   "language": "python",
   "name": "python2"
  },
  "language_info": {
   "codemirror_mode": {
    "name": "ipython",
    "version": 2
   },
   "file_extension": ".py",
   "mimetype": "text/x-python",
   "name": "python",
   "nbconvert_exporter": "python",
   "pygments_lexer": "ipython2",
   "version": "2.7.3"
  }
 },
 "nbformat": 4,
 "nbformat_minor": 2
}
