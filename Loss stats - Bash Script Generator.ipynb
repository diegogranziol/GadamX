{
 "cells": [
  {
   "cell_type": "code",
   "execution_count": 46,
   "metadata": {},
   "outputs": [
    {
     "name": "stdout",
     "output_type": "stream",
     "text": [
      "[0, 5, 10, 15, 20, 25, 30, 35, 40, 45, 50, 55, 60, 65, 70, 75, 80, 85, 90, 95, 100, 105, 110, 115, 120, 125, 130, 135, 140, 145, 150, 155, 160, 165, 170, 175, 180, 185, 190, 195, 200, 205, 210, 215, 220, 225, 230, 235, 240, 245, 250, 255, 260, 265, 270, 275, 280, 285, 290, 295, 300]\n"
     ]
    }
   ],
   "source": [
    "model = 'VGG16'\n",
    "dataset = 'CIFAR100'\n",
    "optimizer = 'SGDOPT'\n",
    "machine = 'rapid'\n",
    "matrix = 'hessian'\n",
    "basis = 'off'\n",
    "\n",
    "\n",
    "start = 'python3 ../loss_stats.py '\n",
    "if machine == 'rapid':\n",
    "    data_path = '/nfs/home/dgranziol/curvature/data/'\n",
    "elif machine == 'jade1':\n",
    "    data_path = '/jmain01/home/JAD017/sjr01/dxg49-sjr01/curvature/data/'\n",
    "    machine = 'jade'\n",
    "elif machine == 'jade2':\n",
    "    data_path = '/jmain01/home/JAD017/sjr02/dxg49-sjr02/curvature/data/' \n",
    "    machine = 'jade'\n",
    "relarray = []\n",
    "iters = 100\n",
    "num_samples = 128\n",
    "if dataset == 'CIFAR100':\n",
    "    df = 'c100'\n",
    "else:\n",
    "    df = 'c10'\n",
    "#ckptlink = 'ckpts/'+df+'/'+model+'/'+optimizer+'/'\n",
    "ckptlink = '/nfs/home/dgranziol/kfac-curvature/out/CIFAR100/VGG16/SGDSWA/seed=1_lr=0.1_swalr=0.01_swastart=161.0_mom=0.9_wd=0.0005_numepochs=300/'\n",
    "append = ''\n",
    "if model == 'VGG16' or model =='VGG16BN' or model == 'VGG19BN':\n",
    "    for i in range(0,61):\n",
    "        relarray.append(i*5)\n",
    "else:\n",
    "    for i in range(0,60):\n",
    "        relarray.append(i*5)\n",
    "print(relarray)\n",
    "substart = 0\n",
    "subend = 10\n",
    "\n",
    "\n",
    "\n",
    "        "
   ]
  },
  {
   "cell_type": "code",
   "execution_count": 47,
   "metadata": {},
   "outputs": [],
   "source": [
    "#data_path = '/jmain01/home/JAD017/sjr01/dxg49-sjr01/curvature/data'\n",
    "data_path = '../data/'"
   ]
  },
  {
   "cell_type": "code",
   "execution_count": 49,
   "metadata": {
    "scrolled": true
   },
   "outputs": [
    {
     "name": "stdout",
     "output_type": "stream",
     "text": [
      "<_io.TextIOWrapper name='rapid_scripts/loss-SGDOPT_VGG16_CIFAR100seed=1_lr=0.1_swalr=0.01_swastart=161.0_mom=0.9_wd=0.0005_numepochs=300_iters-100.sh' mode='w+' encoding='UTF-8'>\n"
     ]
    }
   ],
   "source": [
    "#loss stats\n",
    "f = open(str(machine)+\"_scripts/loss-\"+optimizer+'_'+model+'_'+dataset+ckptlink.split('/')[len(ckptlink.split('/'))-2]+'_'+\"iters-\"+str(iters)+\".sh\",\"w+\")\n",
    "print(f)\n",
    "zeros = '00000'\n",
    "if machine=='jade':\n",
    "    f.write('#!/bin/bash')\n",
    "    f.write('\\n')\n",
    "    f.write('#SBATCH --nodes=1')\n",
    "    f.write('\\n')\n",
    "    f.write('#SBATCH --job-name='+matrix+'_'+optimizer+'_'+model+'_'+dataset+'')\n",
    "    f.write('\\n')\n",
    "    f.write('#SBATCH --partition=small')\n",
    "    f.write('\\n')\n",
    "    f.write('#SBATCH --gres=gpu:1')\n",
    "    f.write('\\n')\n",
    "    f.write('module load python3/anaconda')\n",
    "    f.write('\\n')\n",
    "    f.write('source activate diegorubin')\n",
    "    f.write('\\n')\n",
    "for i in range(0,len(relarray)):\n",
    "    val = zeros[:5-len(str(relarray[i]))]+str(relarray[i])\n",
    "    if model == 'PreResNet110' or model == 'VGG16BN' or model == 'VGG19BN':\n",
    "        k = start+' --dataset='+dataset+' --data_path='+data_path+' --model='+model+' --ckpt='+ckptlink+'checkpoint-'+val+'.pt' \n",
    "        f.write(k)\n",
    "        f.write('\\n')\n",
    "        k = start+' --dataset='+dataset+' --data_path='+data_path+' --model='+model+' --ckpt='+ckptlink+'checkpoint-'+val+'.pt' \n",
    "        f.write(k)\n",
    "        f.write('\\n')\n",
    "    else:\n",
    "        k = start+' --dataset='+dataset+ ' --data_path='+data_path+' --model='+model+' --ckpt='+ckptlink+'checkpoint-'+val+'.pt'\n",
    "        f.write(k)\n",
    "        f.write('\\n')"
   ]
  },
  {
   "cell_type": "code",
   "execution_count": null,
   "metadata": {},
   "outputs": [],
   "source": []
  }
 ],
 "metadata": {
  "kernelspec": {
   "display_name": "Python 3",
   "language": "python",
   "name": "python3"
  },
  "language_info": {
   "codemirror_mode": {
    "name": "ipython",
    "version": 3
   },
   "file_extension": ".py",
   "mimetype": "text/x-python",
   "name": "python",
   "nbconvert_exporter": "python",
   "pygments_lexer": "ipython3",
   "version": "3.6.8"
  }
 },
 "nbformat": 4,
 "nbformat_minor": 2
}
