{
 "cells": [
  {
   "cell_type": "code",
   "execution_count": 2,
   "metadata": {},
   "outputs": [
    {
     "name": "stdout",
     "output_type": "stream",
     "text": [
      "[0, 25, 50, 75, 100, 125, 150, 175, 200, 225, 250, 275, 300]\n"
     ]
    }
   ],
   "source": [
    "model = 'VGG16'\n",
    "dataset = 'CIFAR100'\n",
    "optimizer = 'SGDOPT'\n",
    "machine = 'rapid'\n",
    "matrix = 'hessian'\n",
    "basis = 'off'\n",
    "\n",
    "if basis == 'on':\n",
    "    addbasis = ' --basis '\n",
    "    bass = 'basis'\n",
    "else:\n",
    "    addbasis = ''\n",
    "    bass = ''\n",
    "\n",
    "start = 'python3 ../spectrum.py --curvature_matrix='+matrix+'  '\n",
    "if machine == 'rapid':\n",
    "    data_path = '/nfs/home/dgranziol/curvature/data/'\n",
    "elif machine == 'jade1':\n",
    "    data_path = '/jmain01/home/JAD017/sjr01/dxg49-sjr01/curvature/data/'\n",
    "    machine = 'jade'\n",
    "elif machine == 'jade2':\n",
    "    data_path = '/jmain01/home/JAD017/sjr02/dxg49-sjr02/curvature/data/' \n",
    "    machine = 'jade'\n",
    "relarray = []\n",
    "iters = 10\n",
    "num_samples = 128\n",
    "if dataset == 'CIFAR100':\n",
    "    df = 'c100'\n",
    "else:\n",
    "    df = 'c10'\n",
    "#ckptlink = 'ckpts/'+df+'/'+model+'/'+optimizer+'/'\n",
    "ckptlink = '/nfs/home/dgranziol/kfac-curvature/out/CIFAR100/VGG16/Adam/seed=1_batch_size=16_lr=0.000141_wd=0.0_adam_eps=1e-08_numepochs=300/'\n",
    "append = ''\n",
    "if model == 'VGG16' or model =='VGG16BN' or model == 'VGG19BN':\n",
    "    for i in range(0,13):\n",
    "        relarray.append(i*25)\n",
    "else:\n",
    "    for i in range(0,13):\n",
    "        relarray.append(i*25)\n",
    "print(relarray)\n",
    "substart = 0\n",
    "subend = 10\n",
    "\n",
    "\n",
    "\n",
    "        "
   ]
  },
  {
   "cell_type": "code",
   "execution_count": 3,
   "metadata": {},
   "outputs": [],
   "source": [
    "data_path = '../data'\n",
    "#data_path = '/home/diego/curvature/data/'\n",
    "data_path = '../data/'"
   ]
  },
  {
   "cell_type": "code",
   "execution_count": 13,
   "metadata": {
    "scrolled": true
   },
   "outputs": [
    {
     "name": "stdout",
     "output_type": "stream",
     "text": [
      "jade_scripts/full-hessian_SGDOPT_WideResNet28x10_CIFAR100seed=1_lr=0.1_mom=0.0_wd=0.0005_batchsize=128_numepochs=300_iters-10_basis.sh\n"
     ]
    }
   ],
   "source": [
    "#full SPECTRUM\n",
    "#eigenvectors not saved\n",
    "print(str(machine)+\"_scripts/full-\"+matrix+'_'+optimizer+'_'+model+'_'+dataset+ckptlink.split('/')[len(ckptlink.split('/'))-2]+'_'+\"iters-\"+str(iters)+'_'+bass+\".sh\")\n",
    "f = open(str(machine)+\"_scripts/full-\"+matrix+'_'+optimizer+'_'+model+'_'+dataset+ckptlink.split('/')[len(ckptlink.split('/'))-2]+'_'+\"iters-\"+str(iters)+'_'+bass+\".sh\",\"w+\")\n",
    "zeros = '00000'\n",
    "if machine=='jade':\n",
    "    f.write('#!/bin/bash')\n",
    "    f.write('\\n')\n",
    "    f.write('#SBATCH --nodes=1')\n",
    "    f.write('\\n')\n",
    "    f.write('#SBATCH --job-name='+matrix+'_'+optimizer+'_'+model+'_'+dataset+'')\n",
    "    f.write('\\n')\n",
    "    f.write('#SBATCH --partition=small')\n",
    "    f.write('\\n')\n",
    "    f.write('#SBATCH --gres=gpu:1')\n",
    "    f.write('\\n')\n",
    "    f.write('#SBATCH --mail-type=ALL')\n",
    "    f.write('\\n')\n",
    "    f.write('#SBATCH --mail-user=diego@robots.ox.ac.uk')\n",
    "    f.write('\\n')\n",
    "    f.write('module load python3/anaconda')\n",
    "    f.write('\\n')\n",
    "    f.write('source activate diegorubin')\n",
    "    f.write('\\n')\n",
    "for i in range(0,len(relarray)):\n",
    "    val = zeros[:5-len(str(relarray[i]))]+str(relarray[i])\n",
    "    if model == 'PreResNet110' or model == 'VGG16BN' or model == 'VGG19BN':\n",
    "        k = start+' --dataset='+dataset+' --iters='+str(iters)+' --data_path='+data_path+' --model='+model+' --ckpt='+ckptlink+'checkpoint-'+val+'.pt' +addbasis\n",
    "        f.write(k)\n",
    "        f.write('\\n')\n",
    "        k = start+' --dataset='+dataset+' --iters='+str(iters)+' --data_path='+data_path+' --model='+model+' --ckpt='+ckptlink+'checkpoint-'+val+'.pt --bn_train_mode_off' +addbasis\n",
    "        f.write(k)\n",
    "        f.write('\\n')\n",
    "    else:\n",
    "        k = start+' --dataset='+dataset+' --iters='+str(iters)+' --data_path='+data_path+' --model='+model+' --ckpt='+ckptlink+'checkpoint-'+val+'.pt' +addbasis\n",
    "        f.write(k)\n",
    "        f.write('\\n')"
   ]
  },
  {
   "cell_type": "code",
   "execution_count": 4,
   "metadata": {},
   "outputs": [],
   "source": [
    "#batch SPECTRUM\n",
    "#eigenvectors not saved\n",
    "\n",
    "f = open(str(machine)+\"_scripts/batch-\"+matrix+str(num_samples)+optimizer+model+dataset+'_'+bass+\".sh\",\"w+\")\n",
    "zeros = '00000'\n",
    "if machine=='jade':\n",
    "    f.write('#!/bin/bash')\n",
    "    f.write('\\n')\n",
    "    f.write('#SBATCH --nodes=1')\n",
    "    f.write('\\n')\n",
    "    f.write('#SBATCH --job-name='+matrix+'_'+optimizer+'_'+model+'_'+dataset+'')\n",
    "    f.write('\\n')\n",
    "    f.write('#SBATCH --partition=small')\n",
    "    f.write('\\n')\n",
    "    f.write('#SBATCH --gres=gpu:1')\n",
    "    f.write('\\n')\n",
    "    f.write('module load python3/anaconda')\n",
    "    f.write('\\n')\n",
    "    f.write('source activate diegorubin')\n",
    "    f.write('\\n')\n",
    "for i in range(0,len(relarray)):\n",
    "    val = zeros[:5-len(str(relarray[i]))]+str(relarray[i])\n",
    "    for j in range(substart,subend):\n",
    "        if model == 'PreResNet110' or model == 'VGG16BN' or model == 'VGG19BN':\n",
    "            k = start+' --dataset='+dataset+' --iters='+str(iters)+' --data_path='+data_path+' --model='+model+' --subsample_seed='+str(j)+' --num_samples='+str(num_samples)+' --ckpt='+ckptlink+'checkpoint-'+val+'.pt' +addbasis\n",
    "            f.write(k)\n",
    "            f.write('\\n')\n",
    "            k = start+' --dataset='+dataset+' --iters='+str(iters)+' --data_path='+data_path+' --model='+model+' --subsample_seed='+str(j)+' --num_samples='+str(num_samples)+' --ckpt='+ckptlink+'checkpoint-'+val+'.pt --bn_train_mode_off' +addbasis\n",
    "            f.write(k)\n",
    "            f.write('\\n')\n",
    "        else:\n",
    "            k = start+' --dataset='+dataset+' --iters='+str(iters)+' --data_path='+data_path+' --model='+model+' --subsample_seed='+str(j)+' --num_samples='+str(num_samples)+' --ckpt='+ckptlink+'checkpoint-'+val+'.pt' +addbasis\n",
    "            f.write(k)\n",
    "            f.write('\\n')\n",
    "f.close()"
   ]
  },
  {
   "cell_type": "code",
   "execution_count": 18,
   "metadata": {
    "scrolled": true
   },
   "outputs": [],
   "source": [
    "zeros = '00000'\n",
    "f = open(\"bayes_scripts/removecheck.txt\",\"w+\")\n",
    "f.write('rm ')\n",
    "for i in range(0,301,1):\n",
    "    if i in relarray:\n",
    "        pass\n",
    "    else:\n",
    "        k = 'checkpoint-'+zeros[:5-len(str(i))]+str(i)+'.pt '\n",
    "        f.write(k)"
   ]
  },
  {
   "cell_type": "code",
   "execution_count": 22,
   "metadata": {
    "collapsed": true
   },
   "outputs": [],
   "source": [
    "zeros = '00000'\n",
    "f = open(\"bayes_scripts/hessianvec.txt\",\"w+\")\n",
    "f.write('rm ')\n",
    "for i in range(0,325,25):\n",
    "#     if i in relarray:\n",
    "#         pass\n",
    "#     else:\n",
    "        k = 'hessian-100'+'-'+zeros[:5-len(str(i))]+str(i)+' '\n",
    "        f.write(k)"
   ]
  },
  {
   "cell_type": "code",
   "execution_count": 12,
   "metadata": {
    "collapsed": true
   },
   "outputs": [],
   "source": [
    "f = open(\"bayes_scripts/removeswag.txt\",\"w+\")\n",
    "f.write('rm ')\n",
    "for i in range(1,3000):\n",
    "#     if i in relarray:\n",
    "#         pass\n",
    "#     else:\n",
    "        k = 'swag-'+zeros[:5-len(str(i))]+str(i)+'.pt '\n",
    "        f.write(k)"
   ]
  },
  {
   "cell_type": "code",
   "execution_count": 29,
   "metadata": {
    "collapsed": true
   },
   "outputs": [],
   "source": [
    "list = ['seed=1_lr=0.005_swalr=0.0003_mom=0.9_wd=0.0_numepochs=300',                  'seed=1_lr=0.05_swalr=0.03_swastart=161.0_mom=0.9_wd=0.0005_numepochs=300',\n",
    "'seed=1_lr=0.005_swalr=0.001_mom=0.9_wd=0.0_numepochs=300',                   'seed=1_lr=0.05_swalr=0.05_mom=0.0_wd=0.0_numepochs=300',\n",
    "'seed=1_lr=0.005_swalr=0.005_mom=0.9_wd=0.0_numepochs=300',                   'seed=1_lr=0.05_swalr=0.05_mom=0.9_wd=0.0005_numepochs=300',\n",
    "'seed=1_lr=0.01_swalr=0.01_swastart=161_mom=0.9_wd=0.0_numepochs=300',        'seed=1_lr=0.05_swalr=0.05_swastart=1.0_mom=0.9_wd=0.0005_numepochs=300',\n",
    "'seed=1_lr=0.05_swalr=0.003_mom=0.9_wd=0.0005_numepochs=300',                 'seed=1_lr=0.05_swalr=0.05_swastart=161.0_mom=0.9_wd=0.0005_numepochs=300',\n",
    "'seed=1_lr=0.05_swalr=0.003_swastart=161.0_mom=0.9_wd=0.0005_numepochs=300',  'seed=1_lr=0.15_swalr=0.01_mom=0.0_wd=0.0_numepochs=300',\n",
    "'seed=1_lr=0.05_swalr=0.01_mom=0.0_wd=0.0_numepochs=300',                     'seed=1_lr=0.15_swalr=0.03_mom=0.0_wd=0.0_numepochs=300',\n",
    "'seed=1_lr=0.05_swalr=0.01_mom=0.9_wd=0.0005_numepochs=300',                  'seed=1_lr=0.1_swalr=0.05_swastart=161_mom=0.0_wd=0.0_numepochs=300',\n",
    "'seed=1_lr=0.05_swalr=0.01_swastart=161.0_mom=0.9_wd=0.0005_numepochs=300',   'seed=1_lr=0.1_swalr=0.1_mom=0.0_wd=0.0_numepochs=300',\n",
    "'seed=1_lr=0.05_swalr=0.03_mom=0.9_wd=0.0005_numepochs=300']"
   ]
  },
  {
   "cell_type": "code",
   "execution_count": 36,
   "metadata": {
    "collapsed": true
   },
   "outputs": [],
   "source": [
    "/nfs/home/dgranziol/kfac-curvature/out/MNIST/Logistic/SGD/seed=1_lr=0.05_flat_mom=0.0_wd=0.0_batchsize=55000_numepochs=100"
   ]
  },
  {
   "cell_type": "code",
   "execution_count": 14,
   "metadata": {},
   "outputs": [],
   "source": [
    "zeros = '00000'\n",
    "f = open(\"rapid_scripts/mnistfullspec.sh\",\"w+\")\n",
    "for i in range(0,101):\n",
    "#     if i in relarray:\n",
    "#         pass\n",
    "#     else:\n",
    "        k = 'python3 ../spectrum.py --iters 30 --model Logistic --dataset MNIST --data_path ../data/ --ckpt /nfs/home/dgranziol/kfac-curvature/out/MNIST/Logistic/SGD/seed=1_lr=0.05_flat_mom=0.0_wd=0.0_batchsize=55000_numepochs=100/checkpoint-'+zeros[:5-len(str(i))]+str(i)+'.pt  '\n",
    "        f.write(k)\n",
    "        f.write('\\n')"
   ]
  },
  {
   "cell_type": "code",
   "execution_count": null,
   "metadata": {
    "collapsed": true
   },
   "outputs": [],
   "source": []
  }
 ],
 "metadata": {
  "kernelspec": {
   "display_name": "Python 3",
   "language": "python",
   "name": "python3"
  },
  "language_info": {
   "codemirror_mode": {
    "name": "ipython",
    "version": 3
   },
   "file_extension": ".py",
   "mimetype": "text/x-python",
   "name": "python",
   "nbconvert_exporter": "python",
   "pygments_lexer": "ipython3",
   "version": "3.6.8"
  }
 },
 "nbformat": 4,
 "nbformat_minor": 2
}
