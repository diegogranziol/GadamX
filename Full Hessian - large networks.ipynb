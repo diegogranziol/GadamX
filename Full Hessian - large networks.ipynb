{
 "cells": [
  {
   "cell_type": "code",
   "execution_count": 1,
   "metadata": {},
   "outputs": [
    {
     "name": "stdout",
     "output_type": "stream",
     "text": [
      "/nfs/home/dgranziol/kfac-curvature\n"
     ]
    }
   ],
   "source": [
    "cd ../"
   ]
  },
  {
   "cell_type": "code",
   "execution_count": 7,
   "metadata": {},
   "outputs": [],
   "source": [
    "import argparse\n",
    "import time\n",
    "import tabulate\n",
    "\n",
    "import numpy as np\n",
    "import matplotlib.pyplot as plt\n",
    "\n",
    "from gpytorch.utils.lanczos import lanczos_tridiag\n",
    "\n",
    "import torch\n",
    "\n",
    "from curvature import data, models, losses, utils\n",
    "from curvature.methods.swag import SWAG\n",
    "import scipy.io as sio"
   ]
  },
  {
   "cell_type": "code",
   "execution_count": 19,
   "metadata": {},
   "outputs": [
    {
     "name": "stdout",
     "output_type": "stream",
     "text": [
      "Using model PreResNet164\n"
     ]
    }
   ],
   "source": [
    "dataset = 'CIFAR100'\n",
    "data_path = '/nfs/home/dgranziol/kfac-curvature/data'\n",
    "#LOGISTIC REGRESSION MNIST\n",
    "ckpt = '/nfs/home/dgranziol/kfac-curvature/out/CIFAR100/PreResNet164/SSGDMN/seed=1_epoch_freq=1_curvaturesize=32_warmstart=-1_mom=0.0_wd=0.0005_swastart=200.0_numepochs=300/checkpoint-00000.pt'\n",
    "\n",
    "dataset = ckpt.split('/out/')[1].split('/')[0]\n",
    "model = ckpt.split('/seed=')[0].split('/')[7]\n",
    "network = model\n",
    "epochsave = int(ckpt.split('checkpoint-')[1].split('.')[0])\n",
    "\n",
    "# #MLP small MNIST\n",
    "# ckpt = '/nfs/home/dgranziol/kfac-curvature/out/MNIST/MLP_sdp/SGD/seed=1_lr=0.03_mom=0.9_wd=0.0_batchsize=128_numepochs=200/checkpoint-00200.pt'\n",
    "\n",
    "\n",
    "#model = 'Logistic'\n",
    "print('Using model %s' % model)\n",
    "#from curvature.models import logistic_regression\n",
    "model_cfg = getattr(models,model)"
   ]
  },
  {
   "cell_type": "code",
   "execution_count": 20,
   "metadata": {},
   "outputs": [
    {
     "name": "stdout",
     "output_type": "stream",
     "text": [
      "Loading CIFAR100 from /nfs/home/dgranziol/kfac-curvature/data\n",
      "Files already downloaded and verified\n",
      "You are going to run models on the test set. Are you sure?\n",
      "Files already downloaded and verified\n",
      "Using train (50000) + test (10000)\n"
     ]
    }
   ],
   "source": [
    "batch_size = 1024\n",
    "\n",
    "datasets, num_classes = data.datasets(\n",
    "    dataset,\n",
    "    data_path,\n",
    "    transform_train=model_cfg.transform_test,\n",
    "    transform_test=model_cfg.transform_test,\n",
    "    use_validation=False,\n",
    "    train_subset=None,\n",
    "    train_subset_seed=None,\n",
    ")\n",
    "loader = torch.utils.data.DataLoader(\n",
    "    datasets['train'],\n",
    "    batch_size=batch_size,\n",
    "    shuffle=False,\n",
    "    num_workers=4,\n",
    "    pin_memory=True\n",
    ")\n",
    "# full_datasets, _ = data.datasets(\n",
    "#     dataset,\n",
    "#     data_path,\n",
    "#     transform_train=model_cfg.transform_train,\n",
    "#     transform_test=model_cfg.transform_test,\n",
    "#     use_validation=False,\n",
    "# )\n",
    "# full_loader = torch.utils.data.DataLoader(\n",
    "#     full_datasets['train'],\n",
    "#     batch_size=batch_size,\n",
    "#     shuffle=False,\n",
    "#     num_workers=4,\n",
    "#     pin_memory=True\n",
    "# )"
   ]
  },
  {
   "cell_type": "code",
   "execution_count": 21,
   "metadata": {},
   "outputs": [
    {
     "name": "stdout",
     "output_type": "stream",
     "text": [
      "Loading /nfs/home/dgranziol/kfac-curvature/out/CIFAR100/PreResNet164/SSGDMN/seed=1_epoch_freq=1_curvaturesize=32_warmstart=-1_mom=0.0_wd=0.0005_swastart=200.0_numepochs=300/checkpoint-00000.pt\n"
     ]
    }
   ],
   "source": [
    "model = model_cfg.base(*model_cfg.args, num_classes=num_classes, **model_cfg.kwargs)\n",
    "print('Loading %s' % ckpt)\n",
    "checkpoint = torch.load(ckpt)\n",
    "model.load_state_dict(checkpoint['state_dict'])\n",
    "\n",
    "if torch.cuda.is_available():\n",
    "    device = torch.device('cuda')\n",
    "else:\n",
    "    device = torch.device('cpu')\n",
    "    \n",
    "#device = torch.device('cpu')\n",
    "model.to(device)\n",
    "num_parametrs = sum([p.numel() for p in model.parameters()])\n",
    "criterion = losses.cross_entropy\n"
   ]
  },
  {
   "cell_type": "code",
   "execution_count": 22,
   "metadata": {},
   "outputs": [
    {
     "data": {
      "text/plain": [
       "1726388"
      ]
     },
     "execution_count": 22,
     "metadata": {},
     "output_type": "execute_result"
    }
   ],
   "source": [
    "num_parametrs"
   ]
  },
  {
   "cell_type": "code",
   "execution_count": 31,
   "metadata": {},
   "outputs": [
    {
     "data": {
      "text/plain": [
       "Parameter containing:\n",
       "tensor([[[[-6.5160e-03,  3.3137e-03, -2.3639e-03],\n",
       "          [ 2.9666e-03,  1.6227e-02,  6.7247e-03],\n",
       "          [ 6.2152e-03,  1.4916e-02,  6.9862e-03]],\n",
       "\n",
       "         [[-1.2350e-02, -4.1195e-03, -5.7482e-03],\n",
       "          [-3.8080e-03,  9.1157e-03,  4.0834e-03],\n",
       "          [ 3.9779e-03,  1.4800e-02,  1.0351e-02]],\n",
       "\n",
       "         [[-1.1762e-02, -1.2606e-02, -1.3136e-02],\n",
       "          [-8.4863e-03, -4.6814e-03, -6.6693e-03],\n",
       "          [-1.8965e-03,  3.4121e-03,  2.4678e-03]]],\n",
       "\n",
       "\n",
       "        [[[-1.7663e-02, -2.9104e-03, -1.8182e-03],\n",
       "          [-8.0463e-04,  2.0938e-02,  1.5816e-02],\n",
       "          [ 6.0264e-03,  1.7833e-02,  1.5283e-02]],\n",
       "\n",
       "         [[-2.3648e-02, -1.2174e-02, -4.9106e-03],\n",
       "          [-1.2123e-02,  1.1065e-02,  1.6255e-02],\n",
       "          [-9.0387e-04,  1.9321e-02,  2.7023e-02]],\n",
       "\n",
       "         [[-1.4247e-02, -2.4422e-02, -2.4560e-02],\n",
       "          [-1.6559e-02, -1.3535e-02, -9.5008e-03],\n",
       "          [-1.1954e-02, -3.4330e-03,  7.2356e-03]]],\n",
       "\n",
       "\n",
       "        [[[ 4.3180e-01, -1.0529e+00, -4.6975e-02],\n",
       "          [ 4.9058e-01,  2.7525e-01, -2.4753e-02],\n",
       "          [ 4.7236e-02,  1.1347e-01, -1.5441e-01]],\n",
       "\n",
       "         [[-5.5574e-04, -1.0252e+00,  4.1027e-01],\n",
       "          [-7.5339e-03,  2.4716e-01,  3.7117e-01],\n",
       "          [-1.7971e-01,  1.2558e-01,  4.2365e-02]],\n",
       "\n",
       "         [[-3.9812e-02, -8.1941e-01,  1.8036e-01],\n",
       "          [ 3.7162e-03,  1.9301e-01,  2.2080e-01],\n",
       "          [ 4.2569e-02,  1.2110e-01,  5.2049e-02]]],\n",
       "\n",
       "\n",
       "        ...,\n",
       "\n",
       "\n",
       "        [[[-3.3824e-01, -1.9890e-01, -2.6063e-02],\n",
       "          [-1.7523e-01, -7.0643e-02,  1.4466e-01],\n",
       "          [ 1.8930e-01,  1.8204e-01,  2.6121e-01]],\n",
       "\n",
       "         [[ 2.4989e-01,  6.1802e-01,  6.6410e-01],\n",
       "          [-1.7713e-01,  1.2043e-01,  3.5094e-01],\n",
       "          [-6.9326e-01, -5.5948e-01, -1.8060e-01]],\n",
       "\n",
       "         [[ 1.3124e-01, -3.2143e-01, -6.7429e-01],\n",
       "          [ 3.7825e-01, -5.3919e-02, -5.2244e-01],\n",
       "          [ 4.6833e-01,  2.5873e-01,  9.9122e-03]]],\n",
       "\n",
       "\n",
       "        [[[ 3.2579e-03,  5.4874e-02,  4.3203e-03],\n",
       "          [ 2.2222e-02,  3.1910e-02, -3.2945e-02],\n",
       "          [-2.8812e-02, -4.6466e-02, -8.5867e-02]],\n",
       "\n",
       "         [[-6.5374e-03,  1.3165e-01,  1.0854e-01],\n",
       "          [ 2.9987e-02,  1.3473e-01,  9.1377e-02],\n",
       "          [-8.5479e-03,  3.8037e-02,  1.8484e-02]],\n",
       "\n",
       "         [[-6.5621e-02,  4.7977e-02,  7.7576e-02],\n",
       "          [-1.0832e-01, -4.9195e-02, -1.4077e-02],\n",
       "          [-1.3414e-01, -1.4033e-01, -1.0002e-01]]],\n",
       "\n",
       "\n",
       "        [[[-2.1011e-02,  5.0342e-01,  3.4318e-01],\n",
       "          [ 5.7443e-02,  2.7216e-01, -3.1314e-01],\n",
       "          [-3.7999e-01, -3.1730e-01, -1.6660e-01]],\n",
       "\n",
       "         [[-1.1684e-01,  3.4823e-02, -1.7641e-01],\n",
       "          [ 3.4052e-01,  2.9118e-01, -5.3900e-01],\n",
       "          [ 8.6317e-02,  1.7603e-01,  5.0854e-02]],\n",
       "\n",
       "         [[-2.2939e-01, -2.9594e-01, -3.3838e-01],\n",
       "          [ 3.7006e-01,  1.9841e-01, -5.5624e-01],\n",
       "          [ 2.8776e-01,  3.8529e-01,  1.0687e-01]]]], device='cuda:0',\n",
       "       requires_grad=True)"
      ]
     },
     "execution_count": 31,
     "metadata": {},
     "output_type": "execute_result"
    }
   ],
   "source": [
    "list(model.parameters())[0]"
   ]
  },
  {
   "cell_type": "code",
   "execution_count": 24,
   "metadata": {
    "scrolled": true
   },
   "outputs": [
    {
     "name": "stdout",
     "output_type": "stream",
     "text": [
      "0\n"
     ]
    },
    {
     "ename": "KeyboardInterrupt",
     "evalue": "",
     "output_type": "error",
     "traceback": [
      "\u001b[0;31m---------------------------------------------------------------------------\u001b[0m",
      "\u001b[0;31mKeyboardInterrupt\u001b[0m                         Traceback (most recent call last)",
      "\u001b[0;32m<ipython-input-24-32ec15db170d>\u001b[0m in \u001b[0;36m<module>\u001b[0;34m\u001b[0m\n\u001b[1;32m     23\u001b[0m             \u001b[0;32mtry\u001b[0m\u001b[0;34m:\u001b[0m\u001b[0;34m\u001b[0m\u001b[0m\n\u001b[1;32m     24\u001b[0m             \u001b[0;31m#grad_list2 = torch.autograd.grad(grad_i[i], model.parameters(), create_graph=True)\u001b[0m\u001b[0;34m\u001b[0m\u001b[0;34m\u001b[0m\u001b[0m\n\u001b[0;32m---> 25\u001b[0;31m                 \u001b[0mb\u001b[0m \u001b[0;34m=\u001b[0m \u001b[0mtorch\u001b[0m\u001b[0;34m.\u001b[0m\u001b[0mcat\u001b[0m\u001b[0;34m(\u001b[0m\u001b[0;34m[\u001b[0m\u001b[0mg\u001b[0m\u001b[0;34m.\u001b[0m\u001b[0mview\u001b[0m\u001b[0;34m(\u001b[0m\u001b[0;34m-\u001b[0m\u001b[0;36m1\u001b[0m\u001b[0;34m)\u001b[0m \u001b[0;32mfor\u001b[0m \u001b[0mg\u001b[0m \u001b[0;32min\u001b[0m \u001b[0mtorch\u001b[0m\u001b[0;34m.\u001b[0m\u001b[0mautograd\u001b[0m\u001b[0;34m.\u001b[0m\u001b[0mgrad\u001b[0m\u001b[0;34m(\u001b[0m\u001b[0mgrad_i\u001b[0m\u001b[0;34m[\u001b[0m\u001b[0mi\u001b[0m\u001b[0;34m]\u001b[0m\u001b[0;34m,\u001b[0m \u001b[0mmodel\u001b[0m\u001b[0;34m.\u001b[0m\u001b[0mparameters\u001b[0m\u001b[0;34m(\u001b[0m\u001b[0;34m)\u001b[0m\u001b[0;34m,\u001b[0m \u001b[0mcreate_graph\u001b[0m\u001b[0;34m=\u001b[0m\u001b[0;32mFalse\u001b[0m\u001b[0;34m)\u001b[0m\u001b[0;34m]\u001b[0m\u001b[0;34m)\u001b[0m\u001b[0;34m\u001b[0m\u001b[0m\n\u001b[0m\u001b[1;32m     26\u001b[0m                 \u001b[0ma\u001b[0m \u001b[0;34m=\u001b[0m \u001b[0ma\u001b[0m\u001b[0;34m.\u001b[0m\u001b[0madd\u001b[0m\u001b[0;34m(\u001b[0m\u001b[0mb\u001b[0m\u001b[0;34m)\u001b[0m\u001b[0;34m\u001b[0m\u001b[0m\n\u001b[1;32m     27\u001b[0m                 \u001b[0;31m#a = torch.cat((a.cpu(), b.cpu()), 0).cpu()\u001b[0m\u001b[0;34m\u001b[0m\u001b[0;34m\u001b[0m\u001b[0m\n",
      "\u001b[0;32m~/anaconda2/envs/newtensor/lib/python3.7/site-packages/torch/autograd/__init__.py\u001b[0m in \u001b[0;36mgrad\u001b[0;34m(outputs, inputs, grad_outputs, retain_graph, create_graph, only_inputs, allow_unused)\u001b[0m\n\u001b[1;32m    147\u001b[0m     return Variable._execution_engine.run_backward(\n\u001b[1;32m    148\u001b[0m         \u001b[0moutputs\u001b[0m\u001b[0;34m,\u001b[0m \u001b[0mgrad_outputs\u001b[0m\u001b[0;34m,\u001b[0m \u001b[0mretain_graph\u001b[0m\u001b[0;34m,\u001b[0m \u001b[0mcreate_graph\u001b[0m\u001b[0;34m,\u001b[0m\u001b[0;34m\u001b[0m\u001b[0m\n\u001b[0;32m--> 149\u001b[0;31m         inputs, allow_unused)\n\u001b[0m\u001b[1;32m    150\u001b[0m \u001b[0;34m\u001b[0m\u001b[0m\n\u001b[1;32m    151\u001b[0m \u001b[0;34m\u001b[0m\u001b[0m\n",
      "\u001b[0;31mKeyboardInterrupt\u001b[0m: "
     ]
    }
   ],
   "source": [
    "zerocounts = []\n",
    "import time\n",
    "for k in range(0,10):\n",
    "    print(k)\n",
    "    t0 = time.time()\n",
    "    randomnumber = np.random.randint(1, num_parametrs)\n",
    "    #getting the full Hessian\n",
    "    model.zero_grad()\n",
    "    N = len(loader.dataset)\n",
    "    #a = torch.zeros(1,num_parametrs).cuda()\n",
    "    \n",
    "    for input, target in loader:\n",
    "        input = input.cuda(non_blocking=True)\n",
    "        target = target.cuda(non_blocking=True)\n",
    "        loss, _, _ = criterion(model, input, target)\n",
    "        loss *= input.size()[0] / N\n",
    "        #print(loss)\n",
    "        #loss.backward(retain_graph=True)\n",
    "        #loss.backward()\n",
    "        grad_list = torch.autograd.grad(loss, model.parameters(), create_graph=True)\n",
    "        grad_i = torch.cat([g.view(-1) for g in grad_list])\n",
    "        for i in range(randomnumber-1,randomnumber):\n",
    "            try:\n",
    "            #grad_list2 = torch.autograd.grad(grad_i[i], model.parameters(), create_graph=True)\n",
    "                b = torch.cat([g.view(-1) for g in torch.autograd.grad(grad_i[i], model.parameters(), create_graph=False)])\n",
    "                a = a.add(b)\n",
    "                #a = torch.cat((a.cpu(), b.cpu()), 0).cpu()\n",
    "                del b\n",
    "            except NameError:\n",
    "                a = b\n",
    "    import seaborn as sns\n",
    "    sns.set(font_scale=1.5)\n",
    "    datamat = a.cpu().detach().numpy()\n",
    "    plt.rcParams[\"figure.figsize\"] = (3,3)\n",
    "    #plt.xticks([float('{:.0e}'.format(0))]+[float('{:.1e}'.format(min(data)))]+[float('{:.1e}'.format(max(data)))])\n",
    "    plt.yticks([0])\n",
    "    #plt.set_major_formatter(mtick.FormatStrFormatter('%.2e'))\n",
    "    sns.distplot(datamat, hist=True, kde=False, \n",
    "                 bins=300, color = 'darkblue', \n",
    "                 hist_kws={'edgecolor':'black','log':True},\n",
    "                 kde_kws={'linewidth': 4}\n",
    "                 )\n",
    "    plt.savefig('row_matrix_elems_row_'+str(k)+'_'+dataset+'_'+network+'_'+str(epochsave)+'.pdf',bbox_inches='tight')\n",
    "    plt.show()\n",
    "    sio.savemat('matrix_row_'+str(k)+'_'+dataset+'_'+network+'_'+str(epochsave)+'.mat', {'datamat':datamat})\n",
    "    counter = 0\n",
    "    threshold = 1e-6\n",
    "    for i in range(0,len(a)):\n",
    "        if abs(a[i]) < threshold:\n",
    "            counter = counter +1\n",
    "    print(counter/len(a))\n",
    "    zerocounts.append(counter/len(a))\n",
    "    print('time taken = '+str(time.time()-t0))\n",
    "    del a\n"
   ]
  },
  {
   "cell_type": "code",
   "execution_count": 7,
   "metadata": {},
   "outputs": [
    {
     "name": "stdout",
     "output_type": "stream",
     "text": [
      "0.6897689274293225\n",
      "0.22767306470419346\n"
     ]
    }
   ],
   "source": [
    "print(np.mean(zerocounts))\n",
    "print(np.std(zerocounts))"
   ]
  },
  {
   "cell_type": "code",
   "execution_count": null,
   "metadata": {},
   "outputs": [],
   "source": [
    "zerocounts = []\n",
    "sns.set(font_scale=1.5)\n",
    "#datamat = a.cpu().detach().numpy()\n",
    "plt.rcParams[\"figure.figsize\"] = (3,3)\n",
    "plt.xticks[0]\n",
    "#plt.xticks([float('{:.1e}'.format(0))]+[float('{:.1e}'.format(min(datamat)))]+[float('{:.1e}'.format(max(datamat)))])\n",
    "#plt.yticks([0])\n",
    "#plt.set_major_formatter(mtick.FormatStrFormatter('%.2e'))\n",
    "#plt.ticklabel_format(axis=\"x,y\", style=\"sci\", scilimits=(0,-4),useMathText=True)\n",
    "sns.distplot(datamat, hist=True, kde=False,\n",
    "             bins=300, color = 'darkblue', \n",
    "             hist_kws={'edgecolor':'black','log':True},\n",
    "             kde_kws={'linewidth': 4}\n",
    "             )\n",
    "plt.ticklabel_format(axis=\"x\", style=\"sci\")\n",
    "plt.savefig('row_matrix_elems_row_'+str(randomnumber)+'_'+dataset+'_'+network+'_'+str(epochsave)+'.pdf',bbox_inches='tight')\n",
    "plt.show()\n",
    "sio.savemat('matrix_row_'+str(k)+'_'+dataset+'_'+network+'_'+str(epochsave)+'.mat', {'datamat':datamat})\n",
    "counter = 0\n",
    "threshold = 1e-8\n",
    "for i in range(0,len(a)):\n",
    "    if abs(a[i]) < threshold:\n",
    "        counter = counter +1\n",
    "print(counter/len(a))\n",
    "zerocounts.append(counter/len(a))"
   ]
  },
  {
   "cell_type": "code",
   "execution_count": null,
   "metadata": {},
   "outputs": [],
   "source": [
    "'{:.1e}'.format(0)"
   ]
  },
  {
   "cell_type": "code",
   "execution_count": null,
   "metadata": {},
   "outputs": [],
   "source": [
    "sns.set(font_scale=1)\n",
    "#datamat = a.detach().numpy()\n",
    "plt.rcParams[\"figure.figsize\"] = (3,3)\n",
    "#plt.xticks([float('{:.0e}'.format(0))]+[float('{:.1e}'.format(min(datamat)))]+[float('{:.1e}'.format(max(datamat)))])\n",
    "#plt.yticks([0])\n",
    "#plt.set_major_formatter(mtick.FormatStrFormatter('%.2e'))\n",
    "sns.distplot(datamat, hist=True, kde=False, \n",
    "             bins=300, color = 'darkblue', \n",
    "             hist_kws={'edgecolor':'black','log':True},\n",
    "             kde_kws={'linewidth': 4}\n",
    "             )\n",
    "plt.ticklabel_format(style='sci',axis='x')\n",
    "plt.savefig('row_matrix_elems_row_'+str(randomnumber)+'_'+dataset+'_'+network+'_'+str(epochsave)+'.pdf',bbox_inches='tight')\n",
    "plt.show()"
   ]
  },
  {
   "cell_type": "code",
   "execution_count": null,
   "metadata": {},
   "outputs": [],
   "source": [
    "np.save('row_matrix_elems_row_'+str(randomnumber)+'_'+dataset+'_'+network+'_'+str(epochsave)+'datamat', datamat)"
   ]
  },
  {
   "cell_type": "code",
   "execution_count": null,
   "metadata": {},
   "outputs": [],
   "source": [
    "len(datamat)/num_parametrs"
   ]
  },
  {
   "cell_type": "code",
   "execution_count": null,
   "metadata": {},
   "outputs": [],
   "source": [
    "import scipy.io as sio\n",
    "sns.distplot(data, hist=True, kde=False, \n",
    "             bins=300, color = 'darkblue', \n",
    "             hist_kws={'edgecolor':'black','log':True},\n",
    "             kde_kws={'linewidth': 4}\n",
    "             )\n",
    "plt.savefig('row_matrix_elems_row_'+str(randomnumber)+'_'+dataset+'_'+network+'_'+str(epochsave)+'.pdf',bbox_inches='tight')\n",
    "sio.savemat('matrix_row_'+str(randomnumber)+'.mat', {'a':a})"
   ]
  },
  {
   "cell_type": "code",
   "execution_count": null,
   "metadata": {},
   "outputs": [],
   "source": [
    "    counter = 0\n",
    "    threshold = 1e-8\n",
    "    for i in range(0,len(a)):\n",
    "        if abs(a[i]) < threshold:\n",
    "            counter = counter +1\n",
    "    print(counter/len(a))"
   ]
  },
  {
   "cell_type": "code",
   "execution_count": null,
   "metadata": {},
   "outputs": [],
   "source": [
    "counter/len(a)"
   ]
  },
  {
   "cell_type": "code",
   "execution_count": null,
   "metadata": {},
   "outputs": [],
   "source": [
    "countern = 0\n",
    "threshold = 1e-5\n",
    "for i in range(0,len(a)):\n",
    "    if abs(a[i]) < threshold:\n",
    "        counter = counter +1\n",
    "print(countern/len(a))"
   ]
  },
  {
   "cell_type": "code",
   "execution_count": null,
   "metadata": {},
   "outputs": [],
   "source": [
    "print('max val '+str(torch.max(abs(a))))\n",
    "print('min val ' +str(torch.min(a)))"
   ]
  },
  {
   "cell_type": "code",
   "execution_count": null,
   "metadata": {},
   "outputs": [],
   "source": [
    "float('{:.2e}'.format(min(data)))"
   ]
  },
  {
   "cell_type": "code",
   "execution_count": null,
   "metadata": {},
   "outputs": [],
   "source": [
    "import seaborn as sns\n",
    "sns.set(font_scale=1.5)\n",
    "data = a.detach().numpy()\n",
    "plt.rcParams[\"figure.figsize\"] = (4,1.5)\n",
    "plt.xticks([float('{:.0e}'.format(0))]+[float('{:.1e}'.format(min(data)))]+[float('{:.1e}'.format(max(data)))])\n",
    "plt.yticks([0])\n",
    "#plt.set_major_formatter(mtick.FormatStrFormatter('%.2e'))\n",
    "sns.distplot(data, hist=True, kde=False, \n",
    "             bins=300, color = 'darkblue', \n",
    "             hist_kws={'edgecolor':'black','log':True},\n",
    "             kde_kws={'linewidth': 4}\n",
    "             )\n",
    "plt.savefig('row_matrix_elems'+dataset+'_'+network+'_'+str(epochsave)+'.pdf',bbox_inches='tight')\n"
   ]
  },
  {
   "cell_type": "code",
   "execution_count": null,
   "metadata": {},
   "outputs": [],
   "source": [
    "import matplotlib.ticker as mtick\n",
    "plt.gca().set_major_formatter(mtick.FormatStrFormatter('%.2e'))"
   ]
  },
  {
   "cell_type": "code",
   "execution_count": null,
   "metadata": {},
   "outputs": [],
   "source": [
    "matrix = a.detach().numpy()\n",
    "C = np.linalg.svd(matrix, full_matrices=True)\n",
    "print(C[1][0:30])"
   ]
  },
  {
   "cell_type": "code",
   "execution_count": null,
   "metadata": {},
   "outputs": [],
   "source": [
    "import scipy.io as sio\n",
    "sio.savemat('matrix_'+dataset+'_'+network+'_'+str(epochsave)+'.mat', {'matrix':matrix})\n",
    "\n",
    "print('matrix_'+dataset+'_'+network+'_'+str(epochsave)+'.mat saved')\n",
    "\n",
    "import matplotlib\n",
    "#ax = sns.heatmap(matrix, yticklabels=2, xticklabels=False)\n",
    "#uniform_data = np.random.rand(10000, 10000)\n",
    "plt.imshow(matrix)\n",
    "cax = plt.axes([0.85, 0.1, 0.075, 0.8])\n",
    "plt.colorbar(cax=cax)\n",
    "plt.savefig('matrix_'+dataset+'_'+network+'_'+str(epochsave)+'.pdf',bbox_inches='tight')\n",
    "plt.show()"
   ]
  },
  {
   "cell_type": "code",
   "execution_count": null,
   "metadata": {},
   "outputs": [],
   "source": [
    "#Eigenvalue distribution\n",
    "import matplotlib.pyplot as plt\n",
    "\n",
    "# An \"interface\" to matplotlib.axes.Axes.hist() method\n",
    "n, bins, patches = plt.hist(x=C[1], bins=10000, color='#0504aa',\n",
    "                            alpha=0.7, rwidth=0.001)\n",
    "# plt.grid(axis='y', alpha=0.75)\n",
    "# plt.xlabel('Value')\n",
    "# plt.ylabel('Frequency')\n",
    "# plt.title('My Very Own Histogram')\n",
    "# plt.text(23, 45, r'$\\mu=15, b=3$')\n",
    "# maxfreq = n.max()\n",
    "# # Set a clean upper y-axis limit.\n",
    "# plt.ylim(ymax=np.ceil(maxfreq / 10) * 10 if maxfreq % 10 else maxfreq + 10)\n"
   ]
  },
  {
   "cell_type": "code",
   "execution_count": null,
   "metadata": {},
   "outputs": [],
   "source": [
    "counter = 0\n",
    "threshold = 1e-4\n",
    "for i in range(0,len(C[1])):\n",
    "    if C[1][i] < threshold:\n",
    "        counter = counter+1\n",
    "print(counter)"
   ]
  },
  {
   "cell_type": "code",
   "execution_count": null,
   "metadata": {},
   "outputs": [],
   "source": [
    "len(matrix[0])"
   ]
  },
  {
   "cell_type": "code",
   "execution_count": null,
   "metadata": {},
   "outputs": [],
   "source": [
    "[max(a) for a in matrix]"
   ]
  },
  {
   "cell_type": "code",
   "execution_count": null,
   "metadata": {},
   "outputs": [],
   "source": []
  },
  {
   "cell_type": "code",
   "execution_count": null,
   "metadata": {},
   "outputs": [],
   "source": [
    "plt.figure(ax)"
   ]
  },
  {
   "cell_type": "code",
   "execution_count": null,
   "metadata": {},
   "outputs": [],
   "source": [
    "if torch.cuda.is_available():\n",
    "    device = torch.device('cuda')\n",
    "else:\n",
    "    device = torch.device('cpu')\n",
    "model.to(device)"
   ]
  },
  {
   "cell_type": "code",
   "execution_count": null,
   "metadata": {},
   "outputs": [],
   "source": [
    "class CurvVecProduct(object):\n",
    "    def __init__(self, loader, model, criterion, curvature_matrix, full_loader=None):\n",
    "        self.loader = loader\n",
    "        self.full_loader = full_loader\n",
    "        self.model = model\n",
    "        self.criterion = criterion\n",
    "        self.iters = 0\n",
    "        self.timestamp = time.time()\n",
    "        self.curvature_matrix = curvature_matrix\n",
    "\n",
    "    def __call__(self, vector):\n",
    "        start_time = time.time()\n",
    "        if self.curvature_matrix == 'hessian':\n",
    "            output = utils.hess_vec(\n",
    "                vector,\n",
    "                self.loader,\n",
    "                self.model,\n",
    "                self.criterion,\n",
    "                cuda='cuda'\n",
    "               \n",
    "                )\n",
    "        elif self.curvature_matrix == 'covgrad':\n",
    "            output = utils.covgrad_vec(\n",
    "                vector,\n",
    "                self.loader,\n",
    "                self.model,\n",
    "                self.criterion,\n",
    "                cuda='cuda',\n",
    "            )\n",
    "        else:\n",
    "            raise ValueError(\"Unrecognised curvature_matrix argument \"+self.curvature_matrix)\n",
    "        time_diff = time.time() - start_time\n",
    "\n",
    "        self.iters += 1\n",
    "        print('Iter %d. Time: %.2f' % (self.iters, time_diff))\n",
    "        # return output.unsqueeze(1)¬\n",
    "        return output.cpu().unsqueeze(1)\n",
    "\n",
    "w = torch.cat([param.detach().cpu().view(-1) for param in model.parameters()])\n",
    "w_l2_norm = torch.norm(w).numpy()\n",
    "w_linf_norm = torch.norm(w, float('inf')).numpy()"
   ]
  },
  {
   "cell_type": "code",
   "execution_count": null,
   "metadata": {},
   "outputs": [],
   "source": [
    "#Hessian\n",
    "productor = CurvVecProduct(full_loader, model, criterion, 'hessian')\n",
    "#utils.bn_update(loader, model)\n",
    "Q, T = lanczos_tridiag(productor, 15, dtype=torch.float32, device='cpu', matrix_shape=(num_parametrs, num_parametrs))\n",
    "\n",
    "eigvals, eigvects = T.eig(eigenvectors=True)\n",
    "gammas = eigvects[0, :] ** 2\n",
    "V = eigvects.t() @ Q.t()"
   ]
  },
  {
   "cell_type": "code",
   "execution_count": null,
   "metadata": {},
   "outputs": [],
   "source": [
    "eigval = []\n",
    "for i in range(0,len(eigvals)):\n",
    "    eigval.append(eigvals[i][0])\n",
    "mean = np.dot(eigval,gammas)\n",
    "print(mean)\n",
    "eigval, gammas"
   ]
  },
  {
   "cell_type": "code",
   "execution_count": null,
   "metadata": {},
   "outputs": [],
   "source": [
    "grad = utils.grad(loader, model, criterion, cuda='cuda' == 'cuda', bn_train_mode=False)\n",
    "\n",
    "#Grad distribution\n",
    "import matplotlib.pyplot as plt\n",
    "\n",
    "# An \"interface\" to matplotlib.axes.Axes.hist() method\n",
    "n, bins, patches = plt.hist(x=grad.cpu().numpy(), bins='auto', color='#0504aa',\n",
    "                            alpha=0.7, rwidth=0.85)\n",
    "\n",
    "# An \"interface\" to matplotlib.axes.Axes.hist() method\n",
    "n, bins, patches = plt.hist(x=torch.cat((checkpoint['state_dict']['layer.weight'].view(-1),checkpoint['state_dict']['layer.bias']),0).cpu().numpy(), bins='auto', color='#0504aa',\n",
    "                            alpha=0.7, rwidth=0.85)\n",
    "\n"
   ]
  }
 ],
 "metadata": {
  "kernelspec": {
   "display_name": "Python 3",
   "language": "python",
   "name": "python3"
  },
  "language_info": {
   "codemirror_mode": {
    "name": "ipython",
    "version": 3
   },
   "file_extension": ".py",
   "mimetype": "text/x-python",
   "name": "python",
   "nbconvert_exporter": "python",
   "pygments_lexer": "ipython3",
   "version": "3.7.0"
  }
 },
 "nbformat": 4,
 "nbformat_minor": 4
}
