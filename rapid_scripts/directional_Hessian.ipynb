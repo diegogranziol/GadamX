{
 "cells": [
  {
   "cell_type": "code",
   "execution_count": 2,
   "metadata": {},
   "outputs": [
    {
     "name": "stdout",
     "output_type": "stream",
     "text": [
      "/nfs/home/dgranziol/kfac-curvature\n"
     ]
    }
   ],
   "source": [
    "cd ../"
   ]
  },
  {
   "cell_type": "code",
   "execution_count": 3,
   "metadata": {},
   "outputs": [
    {
     "name": "stdout",
     "output_type": "stream",
     "text": [
      "Older torchvision found\n"
     ]
    },
    {
     "name": "stderr",
     "output_type": "stream",
     "text": [
      "/nfs/home/dgranziol/anaconda2/envs/newtensor/lib/python3.7/site-packages/torchvision/transforms/transforms.py:396: UserWarning: The use of the transforms.RandomSizedCrop transform is deprecated, please use transforms.RandomResizedCrop instead.\n",
      "  warnings.warn(\"The use of the transforms.RandomSizedCrop transform is deprecated, \" +\n"
     ]
    }
   ],
   "source": [
    "import argparse\n",
    "import time\n",
    "import tabulate\n",
    "\n",
    "import numpy as np\n",
    "import matplotlib.pyplot as plt\n",
    "\n",
    "from gpytorch.utils.lanczos import lanczos_tridiag\n",
    "\n",
    "import torch\n",
    "\n",
    "from curvature import data, models, losses, utils\n",
    "from curvature.methods.swag import SWAG\n",
    "import scipy.io as sio"
   ]
  },
  {
   "cell_type": "code",
   "execution_count": 4,
   "metadata": {},
   "outputs": [
    {
     "name": "stdout",
     "output_type": "stream",
     "text": [
      "Using model VGG16\n"
     ]
    }
   ],
   "source": [
    "dataset = 'CIFAR100'\n",
    "data_path = '/nfs/home/dgranziol/kfac-curvature/data'\n",
    "#LOGISTIC REGRESSION MNIST\n",
    "ckpt = '/nfs/home/dgranziol/kfac-curvature/out/CIFAR100/VGG16/SGD/seed=1_lr=0.05_mom=0.9_wd=0.0005_batchsize=128_numepochs=300/checkpoint-00000.pt'\n",
    "\n",
    "dataset = ckpt.split('/out/')[1].split('/')[0]\n",
    "model = ckpt.split('/seed=')[0].split('/')[7]\n",
    "network = model\n",
    "epochsave = int(ckpt.split('checkpoint-')[1].split('.')[0])\n",
    "\n",
    "# #MLP small MNIST\n",
    "# ckpt = '/nfs/home/dgranziol/kfac-curvature/out/MNIST/MLP_sdp/SGD/seed=1_lr=0.03_mom=0.9_wd=0.0_batchsize=128_numepochs=200/checkpoint-00200.pt'\n",
    "\n",
    "\n",
    "#model = 'Logistic'\n",
    "print('Using model %s' % model)\n",
    "#from curvature.models import logistic_regression\n",
    "model_cfg = getattr(models,model)"
   ]
  },
  {
   "cell_type": "code",
   "execution_count": 5,
   "metadata": {},
   "outputs": [
    {
     "name": "stdout",
     "output_type": "stream",
     "text": [
      "Loading CIFAR100 from /nfs/home/dgranziol/kfac-curvature/data\n",
      "Files already downloaded and verified\n",
      "You are going to run models on the test set. Are you sure?\n",
      "Files already downloaded and verified\n",
      "Using train (50000) + test (10000)\n"
     ]
    }
   ],
   "source": [
    "batch_size = 256\n",
    "\n",
    "datasets, num_classes = data.datasets(\n",
    "    dataset,\n",
    "    data_path,\n",
    "    transform_train=model_cfg.transform_test,\n",
    "    transform_test=model_cfg.transform_test,\n",
    "    use_validation=False,\n",
    "    train_subset=None,\n",
    "    train_subset_seed=None,\n",
    ")\n",
    "loader = torch.utils.data.DataLoader(\n",
    "    datasets['train'],\n",
    "    batch_size=batch_size,\n",
    "    shuffle=False,\n",
    "    num_workers=4,\n",
    "    pin_memory=True\n",
    ")\n",
    "# full_datasets, _ = data.datasets(\n",
    "#     dataset,\n",
    "#     data_path,\n",
    "#     transform_train=model_cfg.transform_train,\n",
    "#     transform_test=model_cfg.transform_test,\n",
    "#     use_validation=False,\n",
    "# )\n",
    "# full_loader = torch.utils.data.DataLoader(\n",
    "#     full_datasets['train'],\n",
    "#     batch_size=batch_size,\n",
    "#     shuffle=False,\n",
    "#     num_workers=4,\n",
    "#     pin_memory=True\n",
    "# )"
   ]
  },
  {
   "cell_type": "code",
   "execution_count": 6,
   "metadata": {},
   "outputs": [
    {
     "name": "stdout",
     "output_type": "stream",
     "text": [
      "Loading /nfs/home/dgranziol/kfac-curvature/out/CIFAR100/VGG16/SGD/seed=1_lr=0.05_mom=0.9_wd=0.0005_batchsize=128_numepochs=300/checkpoint-00000.pt\n"
     ]
    }
   ],
   "source": [
    "model = model_cfg.base(*model_cfg.args, num_classes=num_classes, **model_cfg.kwargs)\n",
    "print('Loading %s' % ckpt)\n",
    "checkpoint = torch.load(ckpt)\n",
    "model.load_state_dict(checkpoint['state_dict'])\n",
    "\n",
    "if torch.cuda.is_available():\n",
    "    device = torch.device('cuda')\n",
    "else:\n",
    "    device = torch.device('cpu')\n",
    "    \n",
    "#device = torch.device('cpu')\n",
    "model.to(device)\n",
    "num_parametrs = sum([p.numel() for p in model.parameters()])\n",
    "criterion = losses.cross_entropy\n"
   ]
  },
  {
   "cell_type": "code",
   "execution_count": 7,
   "metadata": {},
   "outputs": [
    {
     "data": {
      "text/plain": [
       "VGG(\n",
       "  (features): Sequential(\n",
       "    (0): Conv2d(3, 64, kernel_size=(3, 3), stride=(1, 1), padding=(1, 1))\n",
       "    (1): ReLU(inplace=True)\n",
       "    (2): Conv2d(64, 64, kernel_size=(3, 3), stride=(1, 1), padding=(1, 1))\n",
       "    (3): ReLU(inplace=True)\n",
       "    (4): MaxPool2d(kernel_size=2, stride=2, padding=0, dilation=1, ceil_mode=False)\n",
       "    (5): Conv2d(64, 128, kernel_size=(3, 3), stride=(1, 1), padding=(1, 1))\n",
       "    (6): ReLU(inplace=True)\n",
       "    (7): Conv2d(128, 128, kernel_size=(3, 3), stride=(1, 1), padding=(1, 1))\n",
       "    (8): ReLU(inplace=True)\n",
       "    (9): MaxPool2d(kernel_size=2, stride=2, padding=0, dilation=1, ceil_mode=False)\n",
       "    (10): Conv2d(128, 256, kernel_size=(3, 3), stride=(1, 1), padding=(1, 1))\n",
       "    (11): ReLU(inplace=True)\n",
       "    (12): Conv2d(256, 256, kernel_size=(3, 3), stride=(1, 1), padding=(1, 1))\n",
       "    (13): ReLU(inplace=True)\n",
       "    (14): Conv2d(256, 256, kernel_size=(3, 3), stride=(1, 1), padding=(1, 1))\n",
       "    (15): ReLU(inplace=True)\n",
       "    (16): MaxPool2d(kernel_size=2, stride=2, padding=0, dilation=1, ceil_mode=False)\n",
       "    (17): Conv2d(256, 512, kernel_size=(3, 3), stride=(1, 1), padding=(1, 1))\n",
       "    (18): ReLU(inplace=True)\n",
       "    (19): Conv2d(512, 512, kernel_size=(3, 3), stride=(1, 1), padding=(1, 1))\n",
       "    (20): ReLU(inplace=True)\n",
       "    (21): Conv2d(512, 512, kernel_size=(3, 3), stride=(1, 1), padding=(1, 1))\n",
       "    (22): ReLU(inplace=True)\n",
       "    (23): MaxPool2d(kernel_size=2, stride=2, padding=0, dilation=1, ceil_mode=False)\n",
       "    (24): Conv2d(512, 512, kernel_size=(3, 3), stride=(1, 1), padding=(1, 1))\n",
       "    (25): ReLU(inplace=True)\n",
       "    (26): Conv2d(512, 512, kernel_size=(3, 3), stride=(1, 1), padding=(1, 1))\n",
       "    (27): ReLU(inplace=True)\n",
       "    (28): Conv2d(512, 512, kernel_size=(3, 3), stride=(1, 1), padding=(1, 1))\n",
       "    (29): ReLU(inplace=True)\n",
       "    (30): MaxPool2d(kernel_size=2, stride=2, padding=0, dilation=1, ceil_mode=False)\n",
       "  )\n",
       "  (classifier): Sequential(\n",
       "    (0): Dropout(p=0.5, inplace=False)\n",
       "    (1): Linear(in_features=512, out_features=512, bias=True)\n",
       "    (2): ReLU(inplace=True)\n",
       "    (3): Dropout(p=0.5, inplace=False)\n",
       "    (4): Linear(in_features=512, out_features=512, bias=True)\n",
       "    (5): ReLU(inplace=True)\n",
       "    (6): Linear(in_features=512, out_features=100, bias=True)\n",
       "  )\n",
       ")"
      ]
     },
     "execution_count": 7,
     "metadata": {},
     "output_type": "execute_result"
    }
   ],
   "source": [
    "#Lanczos if you want it\n",
    "\n",
    "if torch.cuda.is_available():\n",
    "    device = torch.device('cuda')\n",
    "else:\n",
    "    device = torch.device('cpu')\n",
    "model.to(device)"
   ]
  },
  {
   "cell_type": "code",
   "execution_count": 15,
   "metadata": {},
   "outputs": [
    {
     "data": {
      "text/plain": [
       "VGG(\n",
       "  (features): Sequential(\n",
       "    (0): Conv2d(3, 64, kernel_size=(3, 3), stride=(1, 1), padding=(1, 1))\n",
       "    (1): ReLU(inplace=True)\n",
       "    (2): Conv2d(64, 64, kernel_size=(3, 3), stride=(1, 1), padding=(1, 1))\n",
       "    (3): ReLU(inplace=True)\n",
       "    (4): MaxPool2d(kernel_size=2, stride=2, padding=0, dilation=1, ceil_mode=False)\n",
       "    (5): Conv2d(64, 128, kernel_size=(3, 3), stride=(1, 1), padding=(1, 1))\n",
       "    (6): ReLU(inplace=True)\n",
       "    (7): Conv2d(128, 128, kernel_size=(3, 3), stride=(1, 1), padding=(1, 1))\n",
       "    (8): ReLU(inplace=True)\n",
       "    (9): MaxPool2d(kernel_size=2, stride=2, padding=0, dilation=1, ceil_mode=False)\n",
       "    (10): Conv2d(128, 256, kernel_size=(3, 3), stride=(1, 1), padding=(1, 1))\n",
       "    (11): ReLU(inplace=True)\n",
       "    (12): Conv2d(256, 256, kernel_size=(3, 3), stride=(1, 1), padding=(1, 1))\n",
       "    (13): ReLU(inplace=True)\n",
       "    (14): Conv2d(256, 256, kernel_size=(3, 3), stride=(1, 1), padding=(1, 1))\n",
       "    (15): ReLU(inplace=True)\n",
       "    (16): MaxPool2d(kernel_size=2, stride=2, padding=0, dilation=1, ceil_mode=False)\n",
       "    (17): Conv2d(256, 512, kernel_size=(3, 3), stride=(1, 1), padding=(1, 1))\n",
       "    (18): ReLU(inplace=True)\n",
       "    (19): Conv2d(512, 512, kernel_size=(3, 3), stride=(1, 1), padding=(1, 1))\n",
       "    (20): ReLU(inplace=True)\n",
       "    (21): Conv2d(512, 512, kernel_size=(3, 3), stride=(1, 1), padding=(1, 1))\n",
       "    (22): ReLU(inplace=True)\n",
       "    (23): MaxPool2d(kernel_size=2, stride=2, padding=0, dilation=1, ceil_mode=False)\n",
       "    (24): Conv2d(512, 512, kernel_size=(3, 3), stride=(1, 1), padding=(1, 1))\n",
       "    (25): ReLU(inplace=True)\n",
       "    (26): Conv2d(512, 512, kernel_size=(3, 3), stride=(1, 1), padding=(1, 1))\n",
       "    (27): ReLU(inplace=True)\n",
       "    (28): Conv2d(512, 512, kernel_size=(3, 3), stride=(1, 1), padding=(1, 1))\n",
       "    (29): ReLU(inplace=True)\n",
       "    (30): MaxPool2d(kernel_size=2, stride=2, padding=0, dilation=1, ceil_mode=False)\n",
       "  )\n",
       "  (classifier): Sequential(\n",
       "    (0): Dropout(p=0.5, inplace=False)\n",
       "    (1): Linear(in_features=512, out_features=512, bias=True)\n",
       "    (2): ReLU(inplace=True)\n",
       "    (3): Dropout(p=0.5, inplace=False)\n",
       "    (4): Linear(in_features=512, out_features=512, bias=True)\n",
       "    (5): ReLU(inplace=True)\n",
       "    (6): Linear(in_features=512, out_features=100, bias=True)\n",
       "  )\n",
       ")"
      ]
     },
     "execution_count": 15,
     "metadata": {},
     "output_type": "execute_result"
    }
   ],
   "source": [
    "param_list = list(model.parameters())\n",
    "vector_list = []\n",
    "vector2_list = []\n",
    "vector = torch.randn(num_parametrs)\n",
    "vector2 = torch.zeros(num_parametrs)\n",
    "vector = vector/torch.dot(vector,vector)\n",
    "\n",
    "offset = 0\n",
    "for param in param_list:\n",
    "    vector_list.append(vector[offset:offset + param.numel()].detach().view_as(param).to(param.device))\n",
    "    vector2_list.append(vector2[offset:offset + param.numel()].detach().view_as(param).to(param.device))\n",
    "    offset += param.numel()\n",
    "\n",
    "model.eval()\n",
    "#     if bn_train_mode:\n",
    "#         model.apply(_bn_train_mode)\n",
    "\n",
    "model.zero_grad()\n",
    "N = len(loader.dataset)\n",
    "for input, target in loader:\n",
    "    input = input.cuda(non_blocking=True)\n",
    "    target = target.cuda(non_blocking=True)\n",
    "    loss, _, _ = criterion(model, input, target)\n",
    "    loss *= input.size()[0] / N\n",
    "    #poo = [torch.sign(p) for p in param_list]\n",
    "    grad_list = torch.autograd.grad(loss, param_list, create_graph=True)\n",
    "    grad_list2 = np.abs(param_list)*grad_list\n",
    "    dL_dvec = torch.zeros(1)\n",
    "    dL_dvec = dL_dvec.cuda()\n",
    "    for v, g in zip(vector_list, grad_list2):\n",
    "        dL_dvec += torch.sum(v * g)\n",
    "    dL_dvec.backward()\n",
    "    #vector2_list = torch.cat((vector2_list,torch.autograd.grad(dL_dvec, param_list, create_graph=False)),0)\n",
    "    #print(param_list[0].grad.size())\n",
    "model.eval()"
   ]
  },
  {
   "cell_type": "code",
   "execution_count": 16,
   "metadata": {},
   "outputs": [
    {
     "data": {
      "text/plain": [
       "VGG(\n",
       "  (features): Sequential(\n",
       "    (0): Conv2d(3, 64, kernel_size=(3, 3), stride=(1, 1), padding=(1, 1))\n",
       "    (1): ReLU(inplace=True)\n",
       "    (2): Conv2d(64, 64, kernel_size=(3, 3), stride=(1, 1), padding=(1, 1))\n",
       "    (3): ReLU(inplace=True)\n",
       "    (4): MaxPool2d(kernel_size=2, stride=2, padding=0, dilation=1, ceil_mode=False)\n",
       "    (5): Conv2d(64, 128, kernel_size=(3, 3), stride=(1, 1), padding=(1, 1))\n",
       "    (6): ReLU(inplace=True)\n",
       "    (7): Conv2d(128, 128, kernel_size=(3, 3), stride=(1, 1), padding=(1, 1))\n",
       "    (8): ReLU(inplace=True)\n",
       "    (9): MaxPool2d(kernel_size=2, stride=2, padding=0, dilation=1, ceil_mode=False)\n",
       "    (10): Conv2d(128, 256, kernel_size=(3, 3), stride=(1, 1), padding=(1, 1))\n",
       "    (11): ReLU(inplace=True)\n",
       "    (12): Conv2d(256, 256, kernel_size=(3, 3), stride=(1, 1), padding=(1, 1))\n",
       "    (13): ReLU(inplace=True)\n",
       "    (14): Conv2d(256, 256, kernel_size=(3, 3), stride=(1, 1), padding=(1, 1))\n",
       "    (15): ReLU(inplace=True)\n",
       "    (16): MaxPool2d(kernel_size=2, stride=2, padding=0, dilation=1, ceil_mode=False)\n",
       "    (17): Conv2d(256, 512, kernel_size=(3, 3), stride=(1, 1), padding=(1, 1))\n",
       "    (18): ReLU(inplace=True)\n",
       "    (19): Conv2d(512, 512, kernel_size=(3, 3), stride=(1, 1), padding=(1, 1))\n",
       "    (20): ReLU(inplace=True)\n",
       "    (21): Conv2d(512, 512, kernel_size=(3, 3), stride=(1, 1), padding=(1, 1))\n",
       "    (22): ReLU(inplace=True)\n",
       "    (23): MaxPool2d(kernel_size=2, stride=2, padding=0, dilation=1, ceil_mode=False)\n",
       "    (24): Conv2d(512, 512, kernel_size=(3, 3), stride=(1, 1), padding=(1, 1))\n",
       "    (25): ReLU(inplace=True)\n",
       "    (26): Conv2d(512, 512, kernel_size=(3, 3), stride=(1, 1), padding=(1, 1))\n",
       "    (27): ReLU(inplace=True)\n",
       "    (28): Conv2d(512, 512, kernel_size=(3, 3), stride=(1, 1), padding=(1, 1))\n",
       "    (29): ReLU(inplace=True)\n",
       "    (30): MaxPool2d(kernel_size=2, stride=2, padding=0, dilation=1, ceil_mode=False)\n",
       "  )\n",
       "  (classifier): Sequential(\n",
       "    (0): Dropout(p=0.5, inplace=False)\n",
       "    (1): Linear(in_features=512, out_features=512, bias=True)\n",
       "    (2): ReLU(inplace=True)\n",
       "    (3): Dropout(p=0.5, inplace=False)\n",
       "    (4): Linear(in_features=512, out_features=512, bias=True)\n",
       "    (5): ReLU(inplace=True)\n",
       "    (6): Linear(in_features=512, out_features=100, bias=True)\n",
       "  )\n",
       ")"
      ]
     },
     "execution_count": 16,
     "metadata": {},
     "output_type": "execute_result"
    }
   ],
   "source": [
    "model"
   ]
  },
  {
   "cell_type": "code",
   "execution_count": null,
   "metadata": {},
   "outputs": [],
   "source": [
    "np.abs(param_list)"
   ]
  },
  {
   "cell_type": "code",
   "execution_count": null,
   "metadata": {},
   "outputs": [],
   "source": [
    "dL_dvec = torch.zeros(1)\n",
    "dL_dvec = dL_dvec.cuda()\n",
    "for v, g in zip(vector_list, grad_list2):\n",
    "    dL_dvec += torch.sum(v * g)\n",
    "dL_dvec.backward(retain_graph=True)"
   ]
  },
  {
   "cell_type": "code",
   "execution_count": null,
   "metadata": {},
   "outputs": [],
   "source": [
    "grad_list"
   ]
  },
  {
   "cell_type": "code",
   "execution_count": null,
   "metadata": {},
   "outputs": [],
   "source": [
    "param_list"
   ]
  },
  {
   "cell_type": "code",
   "execution_count": null,
   "metadata": {},
   "outputs": [],
   "source": [
    "np.abs(param_list)*grad_list\n",
    "torch.mul([abs(p) for p in param_list],grad_list)"
   ]
  },
  {
   "cell_type": "code",
   "execution_count": null,
   "metadata": {},
   "outputs": [],
   "source": [
    "w = torch.cat([param.detach().cpu().view(-1) for param in model.parameters()])\n",
    "w_l2_norm = torch.norm(w).numpy()\n",
    "w_linf_norm = torch.norm(w, float('inf')).numpy()"
   ]
  },
  {
   "cell_type": "code",
   "execution_count": null,
   "metadata": {},
   "outputs": [],
   "source": [
    "def hess_vec(vector, loader, model, criterion, cuda=True, bn_train_mode=True):\n",
    "    param_list = list(model.parameters())\n",
    "    vector_list = []\n",
    "\n",
    "    offset = 0\n",
    "    for param in param_list:\n",
    "        vector_list.append(vector[offset:offset + param.numel()].detach().view_as(param).to(param.device))\n",
    "        offset += param.numel()\n",
    "\n",
    "    model.eval()\n",
    "#     if bn_train_mode:\n",
    "#         model.apply(_bn_train_mode)\n",
    "\n",
    "    model.zero_grad()\n",
    "    N = len(loader.dataset)\n",
    "    for input, target in loader:\n",
    "        input = input.cuda(non_blocking=True)\n",
    "        target = target.cuda(non_blocking=True)\n",
    "        loss, _, _ = criterion(model, input, target)\n",
    "        loss *= input.size()[0] / N\n",
    "\n",
    "        grad_list = torch.autograd.grad(loss, param_list, create_graph=True)\n",
    "        dL_dvec = torch.zeros(1)\n",
    "        if cuda:\n",
    "            dL_dvec = dL_dvec.cuda()\n",
    "        for v, g in zip(vector_list, grad_list):\n",
    "            dL_dvec += torch.sum(v * g)\n",
    "        dL_dvec.backward()\n",
    "        #print(param_list[0].grad.size())\n",
    "    model.eval()"
   ]
  },
  {
   "cell_type": "code",
   "execution_count": null,
   "metadata": {},
   "outputs": [],
   "source": [
    "class CurvVecProduct(object):\n",
    "    def __init__(self, loader, model, criterion, curvature_matrix, full_loader=None):\n",
    "        self.loader = loader\n",
    "        self.full_loader = full_loader\n",
    "        self.model = model\n",
    "        self.criterion = criterion\n",
    "        self.iters = 0\n",
    "        self.timestamp = time.time()\n",
    "        self.curvature_matrix = curvature_matrix\n",
    "\n",
    "    def __call__(self, vector):\n",
    "        start_time = time.time()\n",
    "        if self.curvature_matrix == 'hessian':\n",
    "            output = hess_vec(\n",
    "                vector,\n",
    "                self.loader,\n",
    "                self.model,\n",
    "                self.criterion,\n",
    "                cuda='cuda'\n",
    "               \n",
    "                )\n",
    "        elif self.curvature_matrix == 'covgrad':\n",
    "            output = utils.covgrad_vec(\n",
    "                vector,\n",
    "                self.loader,\n",
    "                self.model,\n",
    "                self.criterion,\n",
    "                cuda='cuda',\n",
    "            )\n",
    "        else:\n",
    "            raise ValueError(\"Unrecognised curvature_matrix argument \"+self.curvature_matrix)\n",
    "        time_diff = time.time() - start_time\n",
    "\n",
    "        self.iters += 1\n",
    "        print('Iter %d. Time: %.2f' % (self.iters, time_diff))\n",
    "        # return output.unsqueeze(1)¬\n",
    "        return output.cpu().unsqueeze(1)\n",
    "\n",
    "w = torch.cat([param.detach().cpu().view(-1) for param in model.parameters()])\n",
    "w_l2_norm = torch.norm(w).numpy()\n",
    "w_linf_norm = torch.norm(w, float('inf')).numpy()"
   ]
  },
  {
   "cell_type": "code",
   "execution_count": null,
   "metadata": {},
   "outputs": [],
   "source": [
    "#Hessian\n",
    "productor = CurvVecProduct(loader, model, criterion, 'hessian')\n",
    "#utils.bn_update(loader, model)\n",
    "Q, T = lanczos_tridiag(productor, 3, dtype=torch.float32, device='cpu', matrix_shape=(num_parametrs, num_parametrs))\n",
    "\n",
    "eigvals, eigvects = T.eig(eigenvectors=True)\n",
    "gammas = eigvects[0, :] ** 2\n",
    "V = eigvects.t() @ Q.t()"
   ]
  },
  {
   "cell_type": "code",
   "execution_count": null,
   "metadata": {},
   "outputs": [],
   "source": [
    "eigval = []\n",
    "for i in range(0,len(eigvals)):\n",
    "    eigval.append(eigvals[i][0])\n",
    "mean = np.dot(eigval,gammas)"
   ]
  },
  {
   "cell_type": "code",
   "execution_count": null,
   "metadata": {},
   "outputs": [],
   "source": [
    "#For MacKay\n",
    "alpha = 1e-5 \n",
    "gamm = num_parametrs(1-np.dot((alpha/eigvals+alpha),gammas))\n",
    "alphanew = gamm/torch.norm(w).numpy()"
   ]
  }
 ],
 "metadata": {
  "kernelspec": {
   "display_name": "Python 3",
   "language": "python",
   "name": "python3"
  },
  "language_info": {
   "codemirror_mode": {
    "name": "ipython",
    "version": 3
   },
   "file_extension": ".py",
   "mimetype": "text/x-python",
   "name": "python",
   "nbconvert_exporter": "python",
   "pygments_lexer": "ipython3",
   "version": "3.7.0"
  }
 },
 "nbformat": 4,
 "nbformat_minor": 4
}
